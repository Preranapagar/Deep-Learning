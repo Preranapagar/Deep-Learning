{
 "cells": [
  {
   "cell_type": "markdown",
   "id": "fa9f3e72",
   "metadata": {},
   "source": [
    "## Delivery Truck Trip Data"
   ]
  },
  {
   "cell_type": "code",
   "execution_count": 35,
   "id": "36fb4136",
   "metadata": {
    "scrolled": true
   },
   "outputs": [],
   "source": [
    "#Library\n",
    "import pandas as pd\n",
    "import numpy as np\n",
    "import warnings\n",
    "import matplotlib.pyplot as plt\n",
    "import seaborn as sns\n",
    "from tensorflow.keras.utils import to_categorical\n",
    "\n",
    "from tensorflow.keras.callbacks import EarlyStopping\n",
    "from tensorflow.keras.models import Sequential\n",
    "from tensorflow.keras.layers import Dense, Dropout, BatchNormalization, LSTM\n",
    "from sklearn.metrics import precision_score, recall_score, confusion_matrix, classification_report, accuracy_score, f1_score\n",
    "\n",
    "from sklearn.model_selection import train_test_split\n",
    "warnings.filterwarnings('ignore')"
   ]
  },
  {
   "cell_type": "code",
   "execution_count": 2,
   "id": "9687f7ed",
   "metadata": {
    "scrolled": true
   },
   "outputs": [],
   "source": [
    "df = pd.read_excel(\"Delivery truck trip data.xlsx\",dtype={'datetime_column_name': 'datetime64[ns]'})"
   ]
  },
  {
   "cell_type": "code",
   "execution_count": 3,
   "id": "6ca1a968",
   "metadata": {},
   "outputs": [
    {
     "data": {
      "text/html": [
       "<div>\n",
       "<style scoped>\n",
       "    .dataframe tbody tr th:only-of-type {\n",
       "        vertical-align: middle;\n",
       "    }\n",
       "\n",
       "    .dataframe tbody tr th {\n",
       "        vertical-align: top;\n",
       "    }\n",
       "\n",
       "    .dataframe thead th {\n",
       "        text-align: right;\n",
       "    }\n",
       "</style>\n",
       "<table border=\"1\" class=\"dataframe\">\n",
       "  <thead>\n",
       "    <tr style=\"text-align: right;\">\n",
       "      <th></th>\n",
       "      <th>GpsProvider</th>\n",
       "      <th>BookingID</th>\n",
       "      <th>Market/Regular</th>\n",
       "      <th>BookingID_Date</th>\n",
       "      <th>vehicle_no</th>\n",
       "      <th>Origin_Location</th>\n",
       "      <th>Destination_Location</th>\n",
       "      <th>Org_lat_lon</th>\n",
       "      <th>Des_lat_lon</th>\n",
       "      <th>Data_Ping_time</th>\n",
       "      <th>...</th>\n",
       "      <th>TRANSPORTATION_DISTANCE_IN_KM</th>\n",
       "      <th>vehicleType</th>\n",
       "      <th>Minimum_kms_to_be_covered_in_a_day</th>\n",
       "      <th>Driver_Name</th>\n",
       "      <th>Driver_MobileNo</th>\n",
       "      <th>customerID</th>\n",
       "      <th>customerNameCode</th>\n",
       "      <th>supplierID</th>\n",
       "      <th>supplierNameCode</th>\n",
       "      <th>Material Shipped</th>\n",
       "    </tr>\n",
       "  </thead>\n",
       "  <tbody>\n",
       "    <tr>\n",
       "      <th>0</th>\n",
       "      <td>CONSENT TRACK</td>\n",
       "      <td>MVCV0000927/082021</td>\n",
       "      <td>Market</td>\n",
       "      <td>2020-08-17 14:59:01.000</td>\n",
       "      <td>KA590408</td>\n",
       "      <td>TVSLSL-PUZHAL-HUB,CHENNAI,TAMIL NADU</td>\n",
       "      <td>ASHOK LEYLAND PLANT 1- HOSUR,HOSUR,KARNATAKA</td>\n",
       "      <td>13.1550,80.1960</td>\n",
       "      <td>12.7400,77.8200</td>\n",
       "      <td>2020-08-24 00:05:09</td>\n",
       "      <td>...</td>\n",
       "      <td>320.0</td>\n",
       "      <td>NaN</td>\n",
       "      <td>NaN</td>\n",
       "      <td>NaN</td>\n",
       "      <td>NaN</td>\n",
       "      <td>ALLEXCHE45</td>\n",
       "      <td>Ashok leyland limited</td>\n",
       "      <td>VIJEXHOSR7</td>\n",
       "      <td>VIJAY TRANSPORT</td>\n",
       "      <td>BRACKET / GRAB HANDLE</td>\n",
       "    </tr>\n",
       "    <tr>\n",
       "      <th>1</th>\n",
       "      <td>VAMOSYS</td>\n",
       "      <td>VCV00014271/082021</td>\n",
       "      <td>Regular</td>\n",
       "      <td>2020-08-27 16:22:22.827</td>\n",
       "      <td>TN30BC5917</td>\n",
       "      <td>DAIMLER INDIA COMMERCIAL VEHICLES,KANCHIPURAM,...</td>\n",
       "      <td>DAIMLER INDIA COMMERCIAL VEHICLES,KANCHIPURAM,...</td>\n",
       "      <td>12.8390,79.9540</td>\n",
       "      <td>12.8390,79.9540</td>\n",
       "      <td>2020-08-28 12:40:28</td>\n",
       "      <td>...</td>\n",
       "      <td>103.0</td>\n",
       "      <td>NaN</td>\n",
       "      <td>NaN</td>\n",
       "      <td>RAMESH</td>\n",
       "      <td>NaN</td>\n",
       "      <td>DMREXCHEUX</td>\n",
       "      <td>Daimler india commercial vehicles pvt lt</td>\n",
       "      <td>VJLEXSHE09</td>\n",
       "      <td>VJ LOGISTICS</td>\n",
       "      <td>ZB MODEL PLATE / 3143</td>\n",
       "    </tr>\n",
       "    <tr>\n",
       "      <th>2</th>\n",
       "      <td>CONSENT TRACK</td>\n",
       "      <td>VCV00014382/082021</td>\n",
       "      <td>Regular</td>\n",
       "      <td>2020-08-27 17:59:24.987</td>\n",
       "      <td>TN22AR2748</td>\n",
       "      <td>LUCAS TVS LTD-PONDY,PONDY,PONDICHERRY</td>\n",
       "      <td>LUCAS TVS LTD-PONDY,PONDY,PONDICHERRY</td>\n",
       "      <td>11.8710,79.7390</td>\n",
       "      <td>11.8710,79.7390</td>\n",
       "      <td>2020-08-28 09:05:09</td>\n",
       "      <td>...</td>\n",
       "      <td>300.0</td>\n",
       "      <td>NaN</td>\n",
       "      <td>NaN</td>\n",
       "      <td>GIRI</td>\n",
       "      <td>NaN</td>\n",
       "      <td>LUTGCCHE06</td>\n",
       "      <td>Lucas tvs ltd</td>\n",
       "      <td>GSTEXLAK1Q</td>\n",
       "      <td>G.S. TRANSPORT</td>\n",
       "      <td>LETTERING / FUSO</td>\n",
       "    </tr>\n",
       "    <tr>\n",
       "      <th>3</th>\n",
       "      <td>VAMOSYS</td>\n",
       "      <td>VCV00014743/082021</td>\n",
       "      <td>Regular</td>\n",
       "      <td>2020-08-28 00:48:24.503</td>\n",
       "      <td>TN28AQ0781</td>\n",
       "      <td>DAIMLER INDIA COMMERCIAL VEHICLES,KANCHIPURAM,...</td>\n",
       "      <td>DAIMLER INDIA COMMERCIAL VEHICLES,KANCHIPURAM,...</td>\n",
       "      <td>12.8390,79.9540</td>\n",
       "      <td>12.8390,79.9540</td>\n",
       "      <td>2020-08-28 12:40:31</td>\n",
       "      <td>...</td>\n",
       "      <td>61.0</td>\n",
       "      <td>NaN</td>\n",
       "      <td>NaN</td>\n",
       "      <td>RAVI</td>\n",
       "      <td>NaN</td>\n",
       "      <td>DMREXCHEUX</td>\n",
       "      <td>Daimler india commercial vehicles pvt lt</td>\n",
       "      <td>ARVEXNAM09</td>\n",
       "      <td>ARVINTH TRANSPORT</td>\n",
       "      <td>LU STRUT RA / RADIUS ROD</td>\n",
       "    </tr>\n",
       "    <tr>\n",
       "      <th>4</th>\n",
       "      <td>VAMOSYS</td>\n",
       "      <td>VCV00014744/082021</td>\n",
       "      <td>Regular</td>\n",
       "      <td>2020-08-28 01:23:19.243</td>\n",
       "      <td>TN68F1722</td>\n",
       "      <td>LUCAS TVS LTD-PONDY,PONDY,PONDICHERRY</td>\n",
       "      <td>LUCAS TVS LTD-PONDY,PONDY,PONDICHERRY</td>\n",
       "      <td>11.8720,79.6320</td>\n",
       "      <td>11.8720,79.6320</td>\n",
       "      <td>2020-08-28 12:40:29</td>\n",
       "      <td>...</td>\n",
       "      <td>240.0</td>\n",
       "      <td>NaN</td>\n",
       "      <td>NaN</td>\n",
       "      <td>TAMIL</td>\n",
       "      <td>NaN</td>\n",
       "      <td>LUTGCCHE06</td>\n",
       "      <td>Lucas tvs ltd</td>\n",
       "      <td>SRTEXKOR96</td>\n",
       "      <td>SR TRANSPORTS</td>\n",
       "      <td>WISHBONE / V ROD/HDT</td>\n",
       "    </tr>\n",
       "  </tbody>\n",
       "</table>\n",
       "<p>5 rows × 32 columns</p>\n",
       "</div>"
      ],
      "text/plain": [
       "     GpsProvider           BookingID Market/Regular           BookingID_Date  \\\n",
       "0  CONSENT TRACK  MVCV0000927/082021          Market 2020-08-17 14:59:01.000   \n",
       "1        VAMOSYS  VCV00014271/082021         Regular 2020-08-27 16:22:22.827   \n",
       "2  CONSENT TRACK  VCV00014382/082021         Regular 2020-08-27 17:59:24.987   \n",
       "3        VAMOSYS  VCV00014743/082021         Regular 2020-08-28 00:48:24.503   \n",
       "4        VAMOSYS  VCV00014744/082021         Regular 2020-08-28 01:23:19.243   \n",
       "\n",
       "   vehicle_no                                    Origin_Location  \\\n",
       "0    KA590408               TVSLSL-PUZHAL-HUB,CHENNAI,TAMIL NADU   \n",
       "1  TN30BC5917  DAIMLER INDIA COMMERCIAL VEHICLES,KANCHIPURAM,...   \n",
       "2  TN22AR2748              LUCAS TVS LTD-PONDY,PONDY,PONDICHERRY   \n",
       "3  TN28AQ0781  DAIMLER INDIA COMMERCIAL VEHICLES,KANCHIPURAM,...   \n",
       "4   TN68F1722              LUCAS TVS LTD-PONDY,PONDY,PONDICHERRY   \n",
       "\n",
       "                                Destination_Location      Org_lat_lon  \\\n",
       "0       ASHOK LEYLAND PLANT 1- HOSUR,HOSUR,KARNATAKA  13.1550,80.1960   \n",
       "1  DAIMLER INDIA COMMERCIAL VEHICLES,KANCHIPURAM,...  12.8390,79.9540   \n",
       "2              LUCAS TVS LTD-PONDY,PONDY,PONDICHERRY  11.8710,79.7390   \n",
       "3  DAIMLER INDIA COMMERCIAL VEHICLES,KANCHIPURAM,...  12.8390,79.9540   \n",
       "4              LUCAS TVS LTD-PONDY,PONDY,PONDICHERRY  11.8720,79.6320   \n",
       "\n",
       "       Des_lat_lon      Data_Ping_time  ... TRANSPORTATION_DISTANCE_IN_KM  \\\n",
       "0  12.7400,77.8200 2020-08-24 00:05:09  ...                         320.0   \n",
       "1  12.8390,79.9540 2020-08-28 12:40:28  ...                         103.0   \n",
       "2  11.8710,79.7390 2020-08-28 09:05:09  ...                         300.0   \n",
       "3  12.8390,79.9540 2020-08-28 12:40:31  ...                          61.0   \n",
       "4  11.8720,79.6320 2020-08-28 12:40:29  ...                         240.0   \n",
       "\n",
       "  vehicleType Minimum_kms_to_be_covered_in_a_day Driver_Name  Driver_MobileNo  \\\n",
       "0         NaN                                NaN         NaN              NaN   \n",
       "1         NaN                                NaN      RAMESH              NaN   \n",
       "2         NaN                                NaN        GIRI              NaN   \n",
       "3         NaN                                NaN        RAVI              NaN   \n",
       "4         NaN                                NaN       TAMIL              NaN   \n",
       "\n",
       "   customerID                          customerNameCode  supplierID  \\\n",
       "0  ALLEXCHE45                     Ashok leyland limited  VIJEXHOSR7   \n",
       "1  DMREXCHEUX  Daimler india commercial vehicles pvt lt  VJLEXSHE09   \n",
       "2  LUTGCCHE06                             Lucas tvs ltd  GSTEXLAK1Q   \n",
       "3  DMREXCHEUX  Daimler india commercial vehicles pvt lt  ARVEXNAM09   \n",
       "4  LUTGCCHE06                             Lucas tvs ltd  SRTEXKOR96   \n",
       "\n",
       "    supplierNameCode          Material Shipped  \n",
       "0    VIJAY TRANSPORT     BRACKET / GRAB HANDLE  \n",
       "1       VJ LOGISTICS     ZB MODEL PLATE / 3143  \n",
       "2     G.S. TRANSPORT          LETTERING / FUSO  \n",
       "3  ARVINTH TRANSPORT  LU STRUT RA / RADIUS ROD  \n",
       "4      SR TRANSPORTS      WISHBONE / V ROD/HDT  \n",
       "\n",
       "[5 rows x 32 columns]"
      ]
     },
     "execution_count": 3,
     "metadata": {},
     "output_type": "execute_result"
    }
   ],
   "source": [
    "df.head()"
   ]
  },
  {
   "cell_type": "code",
   "execution_count": 4,
   "id": "81bf8082",
   "metadata": {},
   "outputs": [
    {
     "data": {
      "text/plain": [
       "(6880, 32)"
      ]
     },
     "execution_count": 4,
     "metadata": {},
     "output_type": "execute_result"
    }
   ],
   "source": [
    "df.shape"
   ]
  },
  {
   "cell_type": "code",
   "execution_count": 5,
   "id": "17f51645",
   "metadata": {},
   "outputs": [
    {
     "data": {
      "text/html": [
       "<div>\n",
       "<style scoped>\n",
       "    .dataframe tbody tr th:only-of-type {\n",
       "        vertical-align: middle;\n",
       "    }\n",
       "\n",
       "    .dataframe tbody tr th {\n",
       "        vertical-align: top;\n",
       "    }\n",
       "\n",
       "    .dataframe thead th {\n",
       "        text-align: right;\n",
       "    }\n",
       "</style>\n",
       "<table border=\"1\" class=\"dataframe\">\n",
       "  <thead>\n",
       "    <tr style=\"text-align: right;\">\n",
       "      <th></th>\n",
       "      <th>GpsProvider</th>\n",
       "      <th>BookingID</th>\n",
       "      <th>Market/Regular</th>\n",
       "      <th>BookingID_Date</th>\n",
       "      <th>vehicle_no</th>\n",
       "      <th>Origin_Location</th>\n",
       "      <th>Destination_Location</th>\n",
       "      <th>Org_lat_lon</th>\n",
       "      <th>Des_lat_lon</th>\n",
       "      <th>Data_Ping_time</th>\n",
       "      <th>...</th>\n",
       "      <th>TRANSPORTATION_DISTANCE_IN_KM</th>\n",
       "      <th>vehicleType</th>\n",
       "      <th>Minimum_kms_to_be_covered_in_a_day</th>\n",
       "      <th>Driver_Name</th>\n",
       "      <th>Driver_MobileNo</th>\n",
       "      <th>customerID</th>\n",
       "      <th>customerNameCode</th>\n",
       "      <th>supplierID</th>\n",
       "      <th>supplierNameCode</th>\n",
       "      <th>Material Shipped</th>\n",
       "    </tr>\n",
       "  </thead>\n",
       "  <tbody>\n",
       "    <tr>\n",
       "      <th>6875</th>\n",
       "      <td>JTECH</td>\n",
       "      <td>WDSBKTP42751</td>\n",
       "      <td>Regular</td>\n",
       "      <td>2019-03-27 17:25:33</td>\n",
       "      <td>KA219502</td>\n",
       "      <td>Ramamurthy Nagar, Bangalore, Karnataka</td>\n",
       "      <td>Sahakaranagar P.O, Bangalore, Karnataka</td>\n",
       "      <td>13.007503209603689,77.665098855934886</td>\n",
       "      <td>13.068901840235711,77.590655738806618</td>\n",
       "      <td>2019-06-14 15:20:12</td>\n",
       "      <td>...</td>\n",
       "      <td>12.0</td>\n",
       "      <td>25 FT Open Body 21MT</td>\n",
       "      <td>NaN</td>\n",
       "      <td>NaN</td>\n",
       "      <td>NaN</td>\n",
       "      <td>LTLEXMUM40</td>\n",
       "      <td>Larsen &amp; toubro limited</td>\n",
       "      <td>55556</td>\n",
       "      <td>A S TRANSPORTS</td>\n",
       "      <td>TOOL KIT SET</td>\n",
       "    </tr>\n",
       "    <tr>\n",
       "      <th>6876</th>\n",
       "      <td>JTECH</td>\n",
       "      <td>WDSBKTP43203</td>\n",
       "      <td>Regular</td>\n",
       "      <td>2019-03-31 15:02:34</td>\n",
       "      <td>KA01AE9163</td>\n",
       "      <td>Ramamurthy Nagar, Bangalore, Karnataka</td>\n",
       "      <td>Bangalore International Airport, Bangalore, Ka...</td>\n",
       "      <td>13.007503209603689,77.665098855934886</td>\n",
       "      <td>13.196312912801169,77.708156925688726</td>\n",
       "      <td>2019-06-14 15:20:12</td>\n",
       "      <td>...</td>\n",
       "      <td>31.0</td>\n",
       "      <td>40 FT 3XL Trailer 35MT</td>\n",
       "      <td>NaN</td>\n",
       "      <td>NaN</td>\n",
       "      <td>NaN</td>\n",
       "      <td>LTLEXMUM40</td>\n",
       "      <td>Larsen &amp; toubro limited</td>\n",
       "      <td>55556</td>\n",
       "      <td>A S TRANSPORTS</td>\n",
       "      <td>CONTROL LEVER ASSY</td>\n",
       "    </tr>\n",
       "    <tr>\n",
       "      <th>6877</th>\n",
       "      <td>JTECH</td>\n",
       "      <td>WDSBKTP43021</td>\n",
       "      <td>Regular</td>\n",
       "      <td>2019-03-29 18:56:26</td>\n",
       "      <td>KA01AE9163</td>\n",
       "      <td>Mugabala, Bangalore Rural, Karnataka</td>\n",
       "      <td>Anekal, Bangalore, Karnataka</td>\n",
       "      <td>16.560192249175344,80.792293091599547</td>\n",
       "      <td>12.722686,77.676518</td>\n",
       "      <td>2019-06-14 15:20:12</td>\n",
       "      <td>...</td>\n",
       "      <td>49.0</td>\n",
       "      <td>40 FT 3XL Trailer 35MT</td>\n",
       "      <td>NaN</td>\n",
       "      <td>NaN</td>\n",
       "      <td>NaN</td>\n",
       "      <td>LTLEXMUM40</td>\n",
       "      <td>Larsen &amp; toubro limited</td>\n",
       "      <td>55556</td>\n",
       "      <td>A S TRANSPORTS</td>\n",
       "      <td>SPARE PARTS AUTOMOBILE</td>\n",
       "    </tr>\n",
       "    <tr>\n",
       "      <th>6878</th>\n",
       "      <td>JTECH</td>\n",
       "      <td>WDSBKTP42685</td>\n",
       "      <td>Regular</td>\n",
       "      <td>2019-03-27 08:29:45</td>\n",
       "      <td>KA21A3643</td>\n",
       "      <td>Mugabala, Bangalore Rural, Karnataka</td>\n",
       "      <td>Anekal, Bangalore, Karnataka</td>\n",
       "      <td>16.560192249175344,80.792293091599547</td>\n",
       "      <td>12.896896847817695,77.712223056874862</td>\n",
       "      <td>2019-06-14 15:20:12</td>\n",
       "      <td>...</td>\n",
       "      <td>49.0</td>\n",
       "      <td>40 FT 3XL Trailer 35MT</td>\n",
       "      <td>NaN</td>\n",
       "      <td>NaN</td>\n",
       "      <td>NaN</td>\n",
       "      <td>LTLEXMUM40</td>\n",
       "      <td>Larsen &amp; toubro limited</td>\n",
       "      <td>55556</td>\n",
       "      <td>A S TRANSPORTS</td>\n",
       "      <td>SPARE PARTS AUTOMOBILE</td>\n",
       "    </tr>\n",
       "    <tr>\n",
       "      <th>6879</th>\n",
       "      <td>JTECH</td>\n",
       "      <td>WDSBKTP42858</td>\n",
       "      <td>Regular</td>\n",
       "      <td>2019-03-28 17:55:17</td>\n",
       "      <td>KA51D1317</td>\n",
       "      <td>Mugabala, Bangalore Rural, Karnataka</td>\n",
       "      <td>Anekal, Bangalore, Karnataka</td>\n",
       "      <td>16.560192249175344,80.792293091599547</td>\n",
       "      <td>13.199089183304451,77.708554234959038</td>\n",
       "      <td>2019-06-14 15:20:12</td>\n",
       "      <td>...</td>\n",
       "      <td>49.0</td>\n",
       "      <td>40 FT 3XL Trailer 35MT</td>\n",
       "      <td>NaN</td>\n",
       "      <td>NaN</td>\n",
       "      <td>NaN</td>\n",
       "      <td>LTLEXMUM40</td>\n",
       "      <td>Larsen &amp; toubro limited</td>\n",
       "      <td>55556</td>\n",
       "      <td>A S TRANSPORTS</td>\n",
       "      <td>SPARE PARTS AUTOMOBILE</td>\n",
       "    </tr>\n",
       "  </tbody>\n",
       "</table>\n",
       "<p>5 rows × 32 columns</p>\n",
       "</div>"
      ],
      "text/plain": [
       "     GpsProvider     BookingID Market/Regular       BookingID_Date  \\\n",
       "6875       JTECH  WDSBKTP42751         Regular 2019-03-27 17:25:33   \n",
       "6876       JTECH  WDSBKTP43203         Regular 2019-03-31 15:02:34   \n",
       "6877       JTECH  WDSBKTP43021         Regular 2019-03-29 18:56:26   \n",
       "6878       JTECH  WDSBKTP42685         Regular 2019-03-27 08:29:45   \n",
       "6879       JTECH  WDSBKTP42858         Regular 2019-03-28 17:55:17   \n",
       "\n",
       "      vehicle_no                         Origin_Location  \\\n",
       "6875    KA219502  Ramamurthy Nagar, Bangalore, Karnataka   \n",
       "6876  KA01AE9163  Ramamurthy Nagar, Bangalore, Karnataka   \n",
       "6877  KA01AE9163    Mugabala, Bangalore Rural, Karnataka   \n",
       "6878   KA21A3643    Mugabala, Bangalore Rural, Karnataka   \n",
       "6879   KA51D1317    Mugabala, Bangalore Rural, Karnataka   \n",
       "\n",
       "                                   Destination_Location  \\\n",
       "6875            Sahakaranagar P.O, Bangalore, Karnataka   \n",
       "6876  Bangalore International Airport, Bangalore, Ka...   \n",
       "6877                       Anekal, Bangalore, Karnataka   \n",
       "6878                       Anekal, Bangalore, Karnataka   \n",
       "6879                       Anekal, Bangalore, Karnataka   \n",
       "\n",
       "                                Org_lat_lon  \\\n",
       "6875  13.007503209603689,77.665098855934886   \n",
       "6876  13.007503209603689,77.665098855934886   \n",
       "6877  16.560192249175344,80.792293091599547   \n",
       "6878  16.560192249175344,80.792293091599547   \n",
       "6879  16.560192249175344,80.792293091599547   \n",
       "\n",
       "                                Des_lat_lon      Data_Ping_time  ...  \\\n",
       "6875  13.068901840235711,77.590655738806618 2019-06-14 15:20:12  ...   \n",
       "6876  13.196312912801169,77.708156925688726 2019-06-14 15:20:12  ...   \n",
       "6877                    12.722686,77.676518 2019-06-14 15:20:12  ...   \n",
       "6878  12.896896847817695,77.712223056874862 2019-06-14 15:20:12  ...   \n",
       "6879  13.199089183304451,77.708554234959038 2019-06-14 15:20:12  ...   \n",
       "\n",
       "     TRANSPORTATION_DISTANCE_IN_KM             vehicleType  \\\n",
       "6875                          12.0    25 FT Open Body 21MT   \n",
       "6876                          31.0  40 FT 3XL Trailer 35MT   \n",
       "6877                          49.0  40 FT 3XL Trailer 35MT   \n",
       "6878                          49.0  40 FT 3XL Trailer 35MT   \n",
       "6879                          49.0  40 FT 3XL Trailer 35MT   \n",
       "\n",
       "     Minimum_kms_to_be_covered_in_a_day Driver_Name  Driver_MobileNo  \\\n",
       "6875                                NaN         NaN              NaN   \n",
       "6876                                NaN         NaN              NaN   \n",
       "6877                                NaN         NaN              NaN   \n",
       "6878                                NaN         NaN              NaN   \n",
       "6879                                NaN         NaN              NaN   \n",
       "\n",
       "      customerID         customerNameCode supplierID supplierNameCode  \\\n",
       "6875  LTLEXMUM40  Larsen & toubro limited      55556   A S TRANSPORTS   \n",
       "6876  LTLEXMUM40  Larsen & toubro limited      55556   A S TRANSPORTS   \n",
       "6877  LTLEXMUM40  Larsen & toubro limited      55556   A S TRANSPORTS   \n",
       "6878  LTLEXMUM40  Larsen & toubro limited      55556   A S TRANSPORTS   \n",
       "6879  LTLEXMUM40  Larsen & toubro limited      55556   A S TRANSPORTS   \n",
       "\n",
       "            Material Shipped  \n",
       "6875            TOOL KIT SET  \n",
       "6876      CONTROL LEVER ASSY  \n",
       "6877  SPARE PARTS AUTOMOBILE  \n",
       "6878  SPARE PARTS AUTOMOBILE  \n",
       "6879  SPARE PARTS AUTOMOBILE  \n",
       "\n",
       "[5 rows x 32 columns]"
      ]
     },
     "execution_count": 5,
     "metadata": {},
     "output_type": "execute_result"
    }
   ],
   "source": [
    "df.tail()"
   ]
  },
  {
   "cell_type": "code",
   "execution_count": 6,
   "id": "163fb51c",
   "metadata": {},
   "outputs": [
    {
     "name": "stdout",
     "output_type": "stream",
     "text": [
      "<class 'pandas.core.frame.DataFrame'>\n",
      "RangeIndex: 6880 entries, 0 to 6879\n",
      "Data columns (total 32 columns):\n",
      " #   Column                              Non-Null Count  Dtype         \n",
      "---  ------                              --------------  -----         \n",
      " 0   GpsProvider                         5927 non-null   object        \n",
      " 1   BookingID                           6880 non-null   object        \n",
      " 2   Market/Regular                      6880 non-null   object        \n",
      " 3   BookingID_Date                      6880 non-null   datetime64[ns]\n",
      " 4   vehicle_no                          6880 non-null   object        \n",
      " 5   Origin_Location                     6880 non-null   object        \n",
      " 6   Destination_Location                6880 non-null   object        \n",
      " 7   Org_lat_lon                         6880 non-null   object        \n",
      " 8   Des_lat_lon                         6880 non-null   object        \n",
      " 9   Data_Ping_time                      5927 non-null   datetime64[ns]\n",
      " 10  Planned_ETA                         6880 non-null   datetime64[ns]\n",
      " 11  Current_Location                    5916 non-null   object        \n",
      " 12  DestinationLocation                 6880 non-null   object        \n",
      " 13  actual_eta                          6843 non-null   datetime64[ns]\n",
      " 14  Curr_lat                            5927 non-null   float64       \n",
      " 15  Curr_lon                            5927 non-null   float64       \n",
      " 16  ontime                              2548 non-null   object        \n",
      " 17  delay                               4342 non-null   object        \n",
      " 18  OriginLocation_Code                 6877 non-null   object        \n",
      " 19  DestinationLocation_Code            6853 non-null   object        \n",
      " 20  trip_start_date                     6880 non-null   datetime64[ns]\n",
      " 21  trip_end_date                       6686 non-null   datetime64[ns]\n",
      " 22  TRANSPORTATION_DISTANCE_IN_KM       6168 non-null   float64       \n",
      " 23  vehicleType                         6052 non-null   object        \n",
      " 24  Minimum_kms_to_be_covered_in_a_day  2820 non-null   float64       \n",
      " 25  Driver_Name                         3451 non-null   object        \n",
      " 26  Driver_MobileNo                     2691 non-null   float64       \n",
      " 27  customerID                          6880 non-null   object        \n",
      " 28  customerNameCode                    6880 non-null   object        \n",
      " 29  supplierID                          6880 non-null   object        \n",
      " 30  supplierNameCode                    6880 non-null   object        \n",
      " 31  Material Shipped                    6880 non-null   object        \n",
      "dtypes: datetime64[ns](6), float64(5), object(21)\n",
      "memory usage: 1.7+ MB\n"
     ]
    }
   ],
   "source": [
    "df.info()"
   ]
  },
  {
   "cell_type": "code",
   "execution_count": 7,
   "id": "fb1f09f7",
   "metadata": {},
   "outputs": [
    {
     "data": {
      "text/plain": [
       "Index(['GpsProvider', 'BookingID', 'Market/Regular ', 'BookingID_Date',\n",
       "       'vehicle_no', 'Origin_Location', 'Destination_Location', 'Org_lat_lon',\n",
       "       'Des_lat_lon', 'Data_Ping_time', 'Planned_ETA', 'Current_Location',\n",
       "       'DestinationLocation', 'actual_eta', 'Curr_lat', 'Curr_lon', 'ontime',\n",
       "       'delay', 'OriginLocation_Code', 'DestinationLocation_Code',\n",
       "       'trip_start_date', 'trip_end_date', 'TRANSPORTATION_DISTANCE_IN_KM',\n",
       "       'vehicleType', 'Minimum_kms_to_be_covered_in_a_day', 'Driver_Name',\n",
       "       'Driver_MobileNo', 'customerID', 'customerNameCode', 'supplierID',\n",
       "       'supplierNameCode', 'Material Shipped'],\n",
       "      dtype='object')"
      ]
     },
     "execution_count": 7,
     "metadata": {},
     "output_type": "execute_result"
    }
   ],
   "source": [
    "df.columns"
   ]
  },
  {
   "cell_type": "code",
   "execution_count": 8,
   "id": "126ae94e",
   "metadata": {},
   "outputs": [
    {
     "data": {
      "text/html": [
       "<div>\n",
       "<style scoped>\n",
       "    .dataframe tbody tr th:only-of-type {\n",
       "        vertical-align: middle;\n",
       "    }\n",
       "\n",
       "    .dataframe tbody tr th {\n",
       "        vertical-align: top;\n",
       "    }\n",
       "\n",
       "    .dataframe thead th {\n",
       "        text-align: right;\n",
       "    }\n",
       "</style>\n",
       "<table border=\"1\" class=\"dataframe\">\n",
       "  <thead>\n",
       "    <tr style=\"text-align: right;\">\n",
       "      <th></th>\n",
       "      <th>GpsProvider</th>\n",
       "      <th>BookingID</th>\n",
       "      <th>Market/Regular</th>\n",
       "      <th>BookingID_Date</th>\n",
       "      <th>vehicle_no</th>\n",
       "      <th>Origin_Location</th>\n",
       "      <th>Destination_Location</th>\n",
       "      <th>Org_lat_lon</th>\n",
       "      <th>Des_lat_lon</th>\n",
       "      <th>Data_Ping_time</th>\n",
       "      <th>...</th>\n",
       "      <th>TRANSPORTATION_DISTANCE_IN_KM</th>\n",
       "      <th>vehicleType</th>\n",
       "      <th>Minimum_kms_to_be_covered_in_a_day</th>\n",
       "      <th>Driver_Name</th>\n",
       "      <th>Driver_MobileNo</th>\n",
       "      <th>customerID</th>\n",
       "      <th>customerNameCode</th>\n",
       "      <th>supplierID</th>\n",
       "      <th>supplierNameCode</th>\n",
       "      <th>Material Shipped</th>\n",
       "    </tr>\n",
       "  </thead>\n",
       "  <tbody>\n",
       "    <tr>\n",
       "      <th>6868</th>\n",
       "      <td>JTECH</td>\n",
       "      <td>WDSBKTP44502</td>\n",
       "      <td>Regular</td>\n",
       "      <td>2019-04-15 15:15:13</td>\n",
       "      <td>KA21A5090</td>\n",
       "      <td>Mugabala, Bangalore Rural, Karnataka</td>\n",
       "      <td>Peenya Small Industries, Bangalore, Karnataka</td>\n",
       "      <td>16.560192249175344,80.792293091599547</td>\n",
       "      <td>13.196312912801169,77.708156925688726</td>\n",
       "      <td>2019-06-14 15:20:12</td>\n",
       "      <td>...</td>\n",
       "      <td>41.0</td>\n",
       "      <td>40 FT 3XL Trailer 35MT</td>\n",
       "      <td>NaN</td>\n",
       "      <td>NaN</td>\n",
       "      <td>NaN</td>\n",
       "      <td>LTLEXMUM40</td>\n",
       "      <td>Larsen &amp; toubro limited</td>\n",
       "      <td>55556</td>\n",
       "      <td>A S TRANSPORTS</td>\n",
       "      <td>INSRT-VLV ST INTK</td>\n",
       "    </tr>\n",
       "    <tr>\n",
       "      <th>6264</th>\n",
       "      <td>NaN</td>\n",
       "      <td>WDSBKTP49392</td>\n",
       "      <td>Regular</td>\n",
       "      <td>2019-06-10 13:17:44</td>\n",
       "      <td>WB59B9152</td>\n",
       "      <td>Sonai, Kolkata, West Bengal</td>\n",
       "      <td>Kalyani, Nadia, West Bengal</td>\n",
       "      <td>23.525267916088961,87.264424348570884</td>\n",
       "      <td>22.952176370977448,88.4571405591546</td>\n",
       "      <td>NaT</td>\n",
       "      <td>...</td>\n",
       "      <td>51.0</td>\n",
       "      <td>40 FT Flat Bed Multi-Axle 27MT - Trailer</td>\n",
       "      <td>NaN</td>\n",
       "      <td>NaN</td>\n",
       "      <td>NaN</td>\n",
       "      <td>LTLEXMUM40</td>\n",
       "      <td>Larsen &amp; toubro limited</td>\n",
       "      <td>55471</td>\n",
       "      <td>SUNITA CARRIERS PRIVATE LIMITED</td>\n",
       "      <td>FXUWB-LID COVER</td>\n",
       "    </tr>\n",
       "    <tr>\n",
       "      <th>5910</th>\n",
       "      <td>NaN</td>\n",
       "      <td>WDSBKTP41957</td>\n",
       "      <td>Regular</td>\n",
       "      <td>2019-03-18 12:19:22</td>\n",
       "      <td>AP26TE1258</td>\n",
       "      <td>Sedarapet, India</td>\n",
       "      <td>Redhills, Chennai, Tamil Nadu, India</td>\n",
       "      <td>12.0001,79.74839949999999</td>\n",
       "      <td>13.1992334,80.196693</td>\n",
       "      <td>NaT</td>\n",
       "      <td>...</td>\n",
       "      <td>NaN</td>\n",
       "      <td>24 | 26 FT Taurus Open 21MT - HCV</td>\n",
       "      <td>NaN</td>\n",
       "      <td>NaN</td>\n",
       "      <td>NaN</td>\n",
       "      <td>LTLEXMUM40</td>\n",
       "      <td>Larsen &amp; toubro limited</td>\n",
       "      <td>55075</td>\n",
       "      <td>Sri Ayyappan Agencies</td>\n",
       "      <td>COOLANT HOSE / RADIATOR TO ENGINE</td>\n",
       "    </tr>\n",
       "    <tr>\n",
       "      <th>6631</th>\n",
       "      <td>NaN</td>\n",
       "      <td>WDSBKTP41973</td>\n",
       "      <td>Regular</td>\n",
       "      <td>2019-03-18 16:24:18</td>\n",
       "      <td>TN20AJ1188</td>\n",
       "      <td>Kanchipuram, Tamil Nadu, India</td>\n",
       "      <td>Periyapatti, Tamil Nadu, India</td>\n",
       "      <td>12.8341735,79.7036402</td>\n",
       "      <td>11.2044996,78.1421905</td>\n",
       "      <td>NaT</td>\n",
       "      <td>...</td>\n",
       "      <td>NaN</td>\n",
       "      <td>22 FT Taurus Open 16MT - HCV</td>\n",
       "      <td>275.0</td>\n",
       "      <td>NaN</td>\n",
       "      <td>NaN</td>\n",
       "      <td>LTLEXMUM40</td>\n",
       "      <td>Larsen &amp; toubro limited</td>\n",
       "      <td>999</td>\n",
       "      <td>Unknown</td>\n",
       "      <td>A114 Alternator(New Versa)</td>\n",
       "    </tr>\n",
       "    <tr>\n",
       "      <th>5912</th>\n",
       "      <td>NaN</td>\n",
       "      <td>WDSBKTP41974</td>\n",
       "      <td>Regular</td>\n",
       "      <td>2019-03-18 16:56:02</td>\n",
       "      <td>TN25AT7677</td>\n",
       "      <td>Sedarapet, India</td>\n",
       "      <td>Mylasandra, Bengaluru, Karnataka, India</td>\n",
       "      <td>12.0001,79.74839949999999</td>\n",
       "      <td>12.853929,77.6178125</td>\n",
       "      <td>NaT</td>\n",
       "      <td>...</td>\n",
       "      <td>NaN</td>\n",
       "      <td>24 | 26 FT Taurus Open 21MT - HCV</td>\n",
       "      <td>NaN</td>\n",
       "      <td>NaN</td>\n",
       "      <td>NaN</td>\n",
       "      <td>LTLEXMUM40</td>\n",
       "      <td>Larsen &amp; toubro limited</td>\n",
       "      <td>999</td>\n",
       "      <td>Unknown</td>\n",
       "      <td>COOLANT HOSE</td>\n",
       "    </tr>\n",
       "  </tbody>\n",
       "</table>\n",
       "<p>5 rows × 32 columns</p>\n",
       "</div>"
      ],
      "text/plain": [
       "     GpsProvider     BookingID Market/Regular       BookingID_Date  \\\n",
       "6868       JTECH  WDSBKTP44502         Regular 2019-04-15 15:15:13   \n",
       "6264         NaN  WDSBKTP49392         Regular 2019-06-10 13:17:44   \n",
       "5910         NaN  WDSBKTP41957         Regular 2019-03-18 12:19:22   \n",
       "6631         NaN  WDSBKTP41973         Regular 2019-03-18 16:24:18   \n",
       "5912         NaN  WDSBKTP41974         Regular 2019-03-18 16:56:02   \n",
       "\n",
       "      vehicle_no                       Origin_Location  \\\n",
       "6868   KA21A5090  Mugabala, Bangalore Rural, Karnataka   \n",
       "6264   WB59B9152           Sonai, Kolkata, West Bengal   \n",
       "5910  AP26TE1258                      Sedarapet, India   \n",
       "6631  TN20AJ1188        Kanchipuram, Tamil Nadu, India   \n",
       "5912  TN25AT7677                      Sedarapet, India   \n",
       "\n",
       "                               Destination_Location  \\\n",
       "6868  Peenya Small Industries, Bangalore, Karnataka   \n",
       "6264                    Kalyani, Nadia, West Bengal   \n",
       "5910           Redhills, Chennai, Tamil Nadu, India   \n",
       "6631                 Periyapatti, Tamil Nadu, India   \n",
       "5912        Mylasandra, Bengaluru, Karnataka, India   \n",
       "\n",
       "                                Org_lat_lon  \\\n",
       "6868  16.560192249175344,80.792293091599547   \n",
       "6264  23.525267916088961,87.264424348570884   \n",
       "5910              12.0001,79.74839949999999   \n",
       "6631                  12.8341735,79.7036402   \n",
       "5912              12.0001,79.74839949999999   \n",
       "\n",
       "                                Des_lat_lon      Data_Ping_time  ...  \\\n",
       "6868  13.196312912801169,77.708156925688726 2019-06-14 15:20:12  ...   \n",
       "6264    22.952176370977448,88.4571405591546                 NaT  ...   \n",
       "5910                   13.1992334,80.196693                 NaT  ...   \n",
       "6631                  11.2044996,78.1421905                 NaT  ...   \n",
       "5912                   12.853929,77.6178125                 NaT  ...   \n",
       "\n",
       "     TRANSPORTATION_DISTANCE_IN_KM                               vehicleType  \\\n",
       "6868                          41.0                    40 FT 3XL Trailer 35MT   \n",
       "6264                          51.0  40 FT Flat Bed Multi-Axle 27MT - Trailer   \n",
       "5910                           NaN         24 | 26 FT Taurus Open 21MT - HCV   \n",
       "6631                           NaN              22 FT Taurus Open 16MT - HCV   \n",
       "5912                           NaN         24 | 26 FT Taurus Open 21MT - HCV   \n",
       "\n",
       "     Minimum_kms_to_be_covered_in_a_day Driver_Name  Driver_MobileNo  \\\n",
       "6868                                NaN         NaN              NaN   \n",
       "6264                                NaN         NaN              NaN   \n",
       "5910                                NaN         NaN              NaN   \n",
       "6631                              275.0         NaN              NaN   \n",
       "5912                                NaN         NaN              NaN   \n",
       "\n",
       "      customerID         customerNameCode supplierID  \\\n",
       "6868  LTLEXMUM40  Larsen & toubro limited      55556   \n",
       "6264  LTLEXMUM40  Larsen & toubro limited      55471   \n",
       "5910  LTLEXMUM40  Larsen & toubro limited      55075   \n",
       "6631  LTLEXMUM40  Larsen & toubro limited        999   \n",
       "5912  LTLEXMUM40  Larsen & toubro limited        999   \n",
       "\n",
       "                     supplierNameCode                   Material Shipped  \n",
       "6868                   A S TRANSPORTS                  INSRT-VLV ST INTK  \n",
       "6264  SUNITA CARRIERS PRIVATE LIMITED                    FXUWB-LID COVER  \n",
       "5910            Sri Ayyappan Agencies  COOLANT HOSE / RADIATOR TO ENGINE  \n",
       "6631                          Unknown         A114 Alternator(New Versa)  \n",
       "5912                          Unknown                       COOLANT HOSE  \n",
       "\n",
       "[5 rows x 32 columns]"
      ]
     },
     "execution_count": 8,
     "metadata": {},
     "output_type": "execute_result"
    }
   ],
   "source": [
    "df.sort_values('trip_start_date').head()"
   ]
  },
  {
   "cell_type": "code",
   "execution_count": 9,
   "id": "4aaa9119",
   "metadata": {},
   "outputs": [
    {
     "data": {
      "text/plain": [
       "6868   1899-12-30 00:00:00\n",
       "6264   1899-12-30 00:00:00\n",
       "5910   2019-03-18 12:19:22\n",
       "6631   2019-03-18 16:24:18\n",
       "5912   2019-03-18 16:56:02\n",
       "               ...        \n",
       "2590   2020-10-03 18:26:21\n",
       "2046   2020-10-03 19:05:53\n",
       "2591   2020-10-03 20:05:28\n",
       "2592   2020-11-03 10:12:17\n",
       "1862   2020-12-03 13:10:21\n",
       "Name: trip_start_date, Length: 6880, dtype: datetime64[ns]"
      ]
     },
     "execution_count": 9,
     "metadata": {},
     "output_type": "execute_result"
    }
   ],
   "source": [
    "df.sort_values('trip_start_date')['trip_start_date']"
   ]
  },
  {
   "cell_type": "code",
   "execution_count": 10,
   "id": "7bef510a",
   "metadata": {},
   "outputs": [],
   "source": [
    "#6868,6264 index rows having years as 1899 in all datetime features, may be it's a mistake\n",
    "#As we have mistake in those 2 rows let's remove those\n",
    "\n",
    "df.drop(df.index[[6868,6264]],inplace=True)"
   ]
  },
  {
   "cell_type": "code",
   "execution_count": 11,
   "id": "f996ec24",
   "metadata": {},
   "outputs": [],
   "source": [
    "#let's create as a single column 'ontime/delay' from 'ontime' and 'delay' columns\n",
    "df['ontime/delay']=df.ontime.replace({np.NaN, 'G'}, {0, 1})"
   ]
  },
  {
   "cell_type": "code",
   "execution_count": 12,
   "id": "3c68892c",
   "metadata": {},
   "outputs": [],
   "source": [
    "df['vehicle_states'] = df.vehicle_no.astype(str).str[:2]\n",
    "df['Origin_states'] = df['Origin_Location'].str.split(',').apply(lambda x: x[-1])\n",
    "df['Dest_states'] = df['Destination_Location'].str.split(',').apply(lambda x: x[-1])"
   ]
  },
  {
   "cell_type": "code",
   "execution_count": 13,
   "id": "4c95c269",
   "metadata": {},
   "outputs": [
    {
     "data": {
      "text/plain": [
       "0        TAMIL NADU\n",
       "1        TAMIL NADU\n",
       "2       PONDICHERRY\n",
       "3        TAMIL NADU\n",
       "4       PONDICHERRY\n",
       "           ...     \n",
       "6875      Karnataka\n",
       "6876      Karnataka\n",
       "6877      Karnataka\n",
       "6878      Karnataka\n",
       "6879      Karnataka\n",
       "Name: Origin_states, Length: 6878, dtype: object"
      ]
     },
     "execution_count": 13,
     "metadata": {},
     "output_type": "execute_result"
    }
   ],
   "source": [
    "df['Origin_states']"
   ]
  },
  {
   "cell_type": "code",
   "execution_count": 14,
   "id": "a4b881c0",
   "metadata": {},
   "outputs": [],
   "source": [
    "df['vehicle_states']=df['vehicle_states'].replace(('tn', 'hr'), ('TN', 'HR'))\n",
    "\n",
    "df['Origin_states']=df['Origin_states'].replace((' Maharashtra', 'TAMIL NADU', ' Gujarat', ' Tamil Nadu',\n",
    "                                                     'RAJASTHAN', ' Haryana', 'PONDICHERRY',\n",
    "                                                     ' Karnataka', 'KARNATAKA', 'GUJARAT', 'HARYANA', ' Rajasthan', \n",
    "                                                     ' Uttar Pradesh', ' Pondicherry', ' West Bengal', ' Odisha',\n",
    "                                                     ' Jharkhand', ' Bihar', ' Assam', ' Andhra Pradesh', ' Telangana',\n",
    "                                                     ' Chattisgarh', ' Delhi', ' Kerala', ' Chandigarh', ' India', \n",
    "                                                     'UTTAR PRADESH'),\n",
    "                                                    ('Maharashtra', 'Tamil Nadu', 'Gujarat', 'Tamil Nadu',\n",
    "                                                     'Rajasthan', 'Haryana', 'Pondicherry',\n",
    "                                                     'Karnataka', 'Karnataka', 'Gujarat', 'Haryana', 'Rajasthan',\n",
    "                                                     'Uttar Pradesh', 'Pondicherry', 'West Bengal', 'Odisha',\n",
    "                                                     'Jharkhand', 'Bihar', 'Assam', 'Andhra Pradesh', 'Telangana',\n",
    "                                                     'Chattisgarh', 'Delhi', 'Kerala', 'Chandigarh', 'India',\n",
    "                                                     'Uttar Pradesh'))\n",
    "\n",
    "df['Dest_states']=df['Dest_states'].replace((' Tamil Nadu', 'TAMIL NADU', 'RAJASTHAN', ' Maharashtra',\n",
    "       'KARNATAKA', 'PONDICHERRY', 'MAHARASHTRA', ' Haryana', ' Gujarat',\n",
    "       'GUJARAT', 'JHARKHAND', 'Haryana', ' Himachal Pradesh',\n",
    "       ' Karnataka', ' Assam', 'HARYANA', ' Uttar Pradesh',\n",
    "       'HIMACHAL PRADESH', ' West Bengal', ' Odisha', ' Rajasthan',\n",
    "       ' Andhra Pradesh', ' Jharkhand', ' Telangana', ' Punjab', ' Delhi',\n",
    "       ' Central Development Region', ' Madhya Pradesh', ' Meghalaya',\n",
    "       ' Chattisgarh', ' Jammu & Kashmir', ' Uttarakhand', ' Chandigarh',\n",
    "       ' Bihar', ' Pondicherry', ' Kerala', ' Dadra & Nagar Haveli',\n",
    "       ' Goa', ' Sikkim', ' India'),\n",
    "       ('Tamil Nadu', 'Tamil Nadu', 'Rajasthan', 'Maharashtra',\n",
    "       'Karnataka', 'Pondicherry', 'Maharashtra', 'Haryana', 'Gujarat',\n",
    "       'Gujarat', 'Jharkhand', 'Haryana', 'Himachal Pradesh',\n",
    "       'Karnataka', 'Assam', 'Haryana', 'Uttar Pradesh',\n",
    "       'Himachal Pradesh', 'West Bengal', 'Odisha', 'Rajasthan',\n",
    "       'Andhra Pradesh', 'Jharkhand', 'Telangana', 'Punjab', 'Delhi',\n",
    "       'Central Development Region', 'Madhya Pradesh', 'Meghalaya',\n",
    "       'Chattisgarh', 'Jammu & Kashmir', 'Uttarakhand', 'Chandigarh',\n",
    "       'Bihar', 'Pondicherry', 'Kerala', 'Dadra & Nagar Haveli',\n",
    "       'Goa', 'Sikkim', 'India'))"
   ]
  },
  {
   "cell_type": "code",
   "execution_count": 15,
   "id": "284c9f5f",
   "metadata": {},
   "outputs": [],
   "source": [
    "for i in df.index:\n",
    "    if df['Origin_states'][i]=='India':\n",
    "        if df['Origin_Location'][i]=='Sedarapet, India':\n",
    "            df['Origin_states'][i]='Pondicherry'\n",
    "        elif df['Origin_Location'][i]=='Kanchipuram, Tamil Nadu, India':\n",
    "            df['Origin_states'][i]='Tamil Nadu'\n",
    "        elif df['Origin_Location'][i]=='Karnataka 562114, India':\n",
    "            df['Origin_states'][i]='Karnataka'\n",
    "        elif df['Origin_Location'][i]=='Sedarapet, Pondicherry, India':\n",
    "            df['Origin_states'][i]='Pondicherry'\n",
    "        elif df['Origin_Location'][i]=='Pondicherry, Puducherry, India':\n",
    "            df['Origin_states'][i]='Pondicherry'"
   ]
  },
  {
   "cell_type": "code",
   "execution_count": 16,
   "id": "2e3c4b4f",
   "metadata": {},
   "outputs": [],
   "source": [
    "for i in df.index:\n",
    "    if df['Dest_states'][i]=='India':\n",
    "        if df['Destination_Location'][i]=='Gaya, Bihar, India':\n",
    "            df['Origin_states'][i]='Bihar'\n",
    "        elif df['Destination_Location'][i]=='Nizamabad, Telangana, India':\n",
    "              df['Origin_states'][i]='Telangana'\n",
    "        elif df['Destination_Location'][i]=='Bhogipur, Uttar Pradesh, India':\n",
    "              df['Origin_states'][i]='Uttar Pradesh'\n",
    "        elif df['Destination_Location'][i]=='Pondicherry, Puducherry, India':\n",
    "              df['Origin_states'][i]='Pondicherry'\n",
    "        elif df['Destination_Location'][i]=='Sheikhpura, Bihar, India':\n",
    "              df['Origin_states'][i]='Bihar'\n",
    "        elif df['Destination_Location'][i]=='Bhagalpur, Bihar, India':\n",
    "              df['Origin_states'][i]='Bihar'\n",
    "        elif df['Destination_Location'][i]=='Kothamangalam, Kerala, India':\n",
    "              df['Origin_states'][i]='Kerala'\n",
    "        elif df['Destination_Location'][i]=='Kanchipuram, Tamil Nadu, India':\n",
    "              df['Origin_states'][i]='Tamil Nadu'"
   ]
  },
  {
   "cell_type": "code",
   "execution_count": 17,
   "id": "f57cd55e",
   "metadata": {},
   "outputs": [],
   "source": [
    "from geopy import distance\n",
    "\n",
    "#let's find the distance between origin and destination\n",
    "distances_km = []\n",
    "for row in df.itertuples(index=False):\n",
    "    distances_km.append(\n",
    "       distance.distance(row.Org_lat_lon, row.Des_lat_lon).km\n",
    "   )\n",
    "\n",
    "df['Org_Dest_distance'] = distances_km"
   ]
  },
  {
   "cell_type": "markdown",
   "id": "7271cb19",
   "metadata": {},
   "source": [
    "### Missing Value Treatment"
   ]
  },
  {
   "cell_type": "code",
   "execution_count": 18,
   "id": "8e53c4b7",
   "metadata": {},
   "outputs": [
    {
     "name": "stdout",
     "output_type": "stream",
     "text": [
      "GpsProvider 13.84\n",
      "Data_Ping_time 13.84\n",
      "Current_Location 14.000000000000002\n",
      "actual_eta 0.54\n",
      "Curr_lat 13.84\n",
      "Curr_lon 13.84\n",
      "ontime 62.970000000000006\n",
      "delay 36.89\n",
      "OriginLocation_Code 0.04\n",
      "DestinationLocation_Code 0.38999999999999996\n",
      "trip_end_date 2.82\n",
      "TRANSPORTATION_DISTANCE_IN_KM 10.35\n",
      "vehicleType 12.04\n",
      "Minimum_kms_to_be_covered_in_a_day 59.0\n",
      "Driver_Name 49.830000000000005\n",
      "Driver_MobileNo 60.88\n"
     ]
    }
   ],
   "source": [
    "#let's check the percentage of null values in each feature\n",
    "for col in df.columns:\n",
    "    if df[col].isna().sum()>0:\n",
    "        print(col, df[col].isna().mean().round(4)*100)"
   ]
  },
  {
   "cell_type": "code",
   "execution_count": 19,
   "id": "e128e25d",
   "metadata": {},
   "outputs": [],
   "source": [
    "#let's name unkown for null values in driver name\n",
    "df['Driver_Name']=df['Driver_Name'].fillna('Unknown')\n",
    "\n",
    "#let's impute transportation distence with mean value\n",
    "df['TRANSPORTATION_DISTANCE_IN_KM']= df[\"TRANSPORTATION_DISTANCE_IN_KM\"].rolling(min_periods=1, center=True, window=12).mean()\n",
    "\n",
    "#let's name unkown for null values in vehicle type\n",
    "df['vehicleType']=df['vehicleType'].fillna('Unknown')\n",
    "\n",
    "#let's fill pervious date for actual.eta\n",
    "df['actual_eta']=df['actual_eta'].fillna(method='ffill')"
   ]
  },
  {
   "cell_type": "code",
   "execution_count": 20,
   "id": "ff8631d5",
   "metadata": {},
   "outputs": [],
   "source": [
    "#let's impute null values in trip_end_date\n",
    "import datetime\n",
    "import random\n",
    "df_sub=df[df['trip_end_date'].isna()]\n",
    "for i in df_sub.index:\n",
    "    if df_sub['ontime/delay'][i]==0:\n",
    "        df_sub['trip_end_date'][i]=df_sub['actual_eta'][i]\n",
    "    else:\n",
    "        df_sub['trip_end_date'][i]=df_sub['Planned_ETA'][i]-datetime.timedelta(random.randint(0,3))\n",
    "\n",
    "df=pd.concat([df, df_sub])\n",
    "\n",
    "#as we have concatinationg those null in trip_end_date related rows are duplicates so let's remove those\n",
    "df.dropna(subset=['trip_end_date'], inplace=True)"
   ]
  },
  {
   "cell_type": "code",
   "execution_count": 21,
   "id": "920b72ce",
   "metadata": {},
   "outputs": [],
   "source": [
    "#feature like gps provider, data ping time, current location, curr_lat, curr_lon having null values in same rows\n",
    "#all the above mentioned features are dependent on each other and it's not feasible to impute those, so let's drop those rows\n",
    "\n",
    "df.dropna(subset=['Current_Location'], inplace=True)"
   ]
  },
  {
   "cell_type": "code",
   "execution_count": 22,
   "id": "064a9568",
   "metadata": {},
   "outputs": [
    {
     "data": {
      "image/png": "[encoded data removed]",
      "text/plain": [
       "<Figure size 432x288 with 1 Axes>"
      ]
     },
     "metadata": {},
     "output_type": "display_data"
    }
   ],
   "source": [
    "plt.rcParams['figure.figsize']=(5,5)\n",
    "#explode = (0, 0.1, 0.2, 0.3, 0.4)\n",
    "plt.pie(df['ontime/delay'].value_counts(), explode = (0, 0.05), autopct='%1.1f%%')\n",
    "plt.title('percentage og ontime and delay deliveries')\n",
    "plt.legend(['Delay', 'Ontime'])\n",
    "plt.show()"
   ]
  },
  {
   "cell_type": "code",
   "execution_count": 23,
   "id": "47a56d84",
   "metadata": {},
   "outputs": [
    {
     "data": {
      "text/plain": [
       "999    316\n",
       "Name: supplierID, dtype: int64"
      ]
     },
     "execution_count": 23,
     "metadata": {},
     "output_type": "execute_result"
    }
   ],
   "source": [
    "#Let's check the supplier code for the unknown suppliers\n",
    "df[df['supplierNameCode']=='Unknown']['supplierID'].value_counts()"
   ]
  },
  {
   "cell_type": "code",
   "execution_count": 24,
   "id": "d17fda65",
   "metadata": {},
   "outputs": [
    {
     "data": {
      "text/plain": [
       "0    2003\n",
       "1     677\n",
       "Name: ontime/delay, dtype: int64"
      ]
     },
     "execution_count": 24,
     "metadata": {},
     "output_type": "execute_result"
    }
   ],
   "source": [
    "# Let's check whether having driver's mobile number making any impact on ontime delivery\n",
    "df['Driver_MobileNo'].values[df['Driver_MobileNo'].values>0]=1\n",
    "df['Driver_MobileNo'].fillna(0, inplace=True)\n",
    "df[df['Driver_MobileNo']==1]['ontime/delay'].value_counts()"
   ]
  },
  {
   "cell_type": "code",
   "execution_count": 25,
   "id": "82e50915",
   "metadata": {},
   "outputs": [
    {
     "data": {
      "text/plain": [
       "0    2321\n",
       "1     914\n",
       "Name: ontime/delay, dtype: int64"
      ]
     },
     "execution_count": 25,
     "metadata": {},
     "output_type": "execute_result"
    }
   ],
   "source": [
    "df[df['Driver_MobileNo']==0]['ontime/delay'].value_counts()"
   ]
  },
  {
   "cell_type": "markdown",
   "id": "5a613ed7",
   "metadata": {},
   "source": [
    "### Feature Encoding"
   ]
  },
  {
   "cell_type": "code",
   "execution_count": 26,
   "id": "0158fdbb",
   "metadata": {},
   "outputs": [],
   "source": [
    "#let's filter usefull data alone\n",
    "df_cln=df[['Market/Regular ',\n",
    "       'vehicle_no',\n",
    "       'Current_Location',\n",
    "       'TRANSPORTATION_DISTANCE_IN_KM',\n",
    "       'vehicleType', 'Driver_Name',\n",
    "       'Driver_MobileNo', 'customerID', 'supplierID',\n",
    "       'Material Shipped', 'ontime/delay',\n",
    "       'vehicle_states', 'Origin_states', 'Dest_states', 'Org_Dest_distance']]"
   ]
  },
  {
   "cell_type": "code",
   "execution_count": 27,
   "id": "5de943e8",
   "metadata": {},
   "outputs": [],
   "source": [
    "#let's make a copy of filtered data\n",
    "df_copy=df_cln.copy()"
   ]
  },
  {
   "cell_type": "code",
   "execution_count": 28,
   "id": "e7ceed31",
   "metadata": {},
   "outputs": [],
   "source": [
    "#df_cln['GpsProvider']=df_cln.GpsProvider.astype(\"category\").cat.codes\n",
    "#df_cln['BookingID']=df_cln.BookingID.astype(\"category\").cat.codes\n",
    "df_cln['vehicle_no']=df_cln.vehicle_no.astype(\"category\").cat.codes\n",
    "df_cln['customerID']=df_cln.customerID.astype(\"category\").cat.codes\n",
    "df_cln['supplierID']=df_cln.supplierID.astype(\"category\").cat.codes\n",
    "#df_cln['Origin_Location']=df_cln.Origin_Location.astype(\"category\").cat.codes\n",
    "#df_cln['Destination_Location']=df_cln.Destination_Location.astype(\"category\").cat.codes\n",
    "df_cln['Current_Location']=df_cln.Current_Location.astype(\"category\").cat.codes\n",
    "df_cln['vehicleType']=df_cln.vehicleType.astype(\"category\").cat.codes\n",
    "#df_cln['customerNameCode']=df_cln.customerNameCode.astype(\"category\").cat.codes\n",
    "#df_cln['supplierNameCode']=df_cln.supplierNameCode.astype(\"category\").cat.codes\n",
    "df_cln['Material Shipped']=df_cln['Material Shipped'].astype(\"category\").cat.codes\n",
    "df_cln['Market/Regular ']=df_cln['Market/Regular '].astype(\"category\").cat.codes\n",
    "df_cln['Driver_Name']=df_cln['Driver_Name'].astype(\"category\").cat.codes\n",
    "df_cln['vehicle_states']=df_cln.vehicle_states.astype(\"category\").cat.codes\n",
    "df_cln['Origin_states']=df_cln['Origin_states'].astype(\"category\").cat.codes\n",
    "df_cln['Dest_states']=df_cln['Dest_states'].astype(\"category\").cat.codes"
   ]
  },
  {
   "cell_type": "code",
   "execution_count": 29,
   "id": "eea32f43",
   "metadata": {},
   "outputs": [
    {
     "data": {
      "text/plain": [
       "ontime/delay                     1.000000\n",
       "supplierID                       0.501116\n",
       "vehicleType                      0.210720\n",
       "vehicle_states                   0.203893\n",
       "vehicle_no                       0.201877\n",
       "Dest_states                      0.177922\n",
       "Origin_states                    0.110959\n",
       "TRANSPORTATION_DISTANCE_IN_KM    0.104201\n",
       "Current_Location                 0.075365\n",
       "Material Shipped                 0.013946\n",
       "Driver_MobileNo                 -0.033591\n",
       "Market/Regular                  -0.125841\n",
       "Org_Dest_distance               -0.233739\n",
       "Driver_Name                     -0.244567\n",
       "customerID                      -0.258463\n",
       "Name: ontime/delay, dtype: float64"
      ]
     },
     "execution_count": 29,
     "metadata": {},
     "output_type": "execute_result"
    }
   ],
   "source": [
    "corr_matrix=df_cln.corr()\n",
    "corr_matrix[\"ontime/delay\"].sort_values(ascending=False)"
   ]
  },
  {
   "cell_type": "code",
   "execution_count": 30,
   "id": "3c059e55",
   "metadata": {},
   "outputs": [],
   "source": [
    "x=df_cln.drop('ontime/delay', axis=1)\n",
    "y=df_cln['ontime/delay'].values"
   ]
  },
  {
   "cell_type": "markdown",
   "id": "08ac9f36",
   "metadata": {},
   "source": [
    "### Feature Scaling"
   ]
  },
  {
   "cell_type": "code",
   "execution_count": 31,
   "id": "8fea96c6",
   "metadata": {},
   "outputs": [],
   "source": [
    "from sklearn.preprocessing import StandardScaler\n",
    "\n",
    "#to_scale=df_cln.select_dtypes(include='number').columns.tolist()[1:-1]\n",
    "sc=StandardScaler()\n",
    "scaled=sc.fit_transform(x)\n",
    "x_scl=pd.DataFrame(scaled, columns=x.columns)"
   ]
  },
  {
   "cell_type": "code",
   "execution_count": 32,
   "id": "9ff477c2",
   "metadata": {},
   "outputs": [
    {
     "data": {
      "image/png": "[encoded data removed]",
      "text/plain": [
       "<Figure size 432x288 with 2 Axes>"
      ]
     },
     "metadata": {
      "needs_background": "light"
     },
     "output_type": "display_data"
    }
   ],
   "source": [
    "#check weathear data is standardized or not\n",
    "plt.subplot(121)\n",
    "plt.ylim(-1,1)\n",
    "\n",
    "means=[]\n",
    "for i in range(x_scl.shape[1]):\n",
    "    means.append(np.mean(x_scl.iloc[:,i]))\n",
    "plt.plot(means, scaley=False)\n",
    "plt.title('Means of scaled features')\n",
    "\n",
    "plt.subplot(122)\n",
    "plt.ylim(0,2)\n",
    "vars=[]\n",
    "for i in range(x_scl.shape[1]):\n",
    "    vars.append(np.var(x_scl.iloc[:,i]))\n",
    "plt.plot(vars, scaley=False)\n",
    "plt.title('Varience of scaled features')\n",
    "plt.show()"
   ]
  },
  {
   "cell_type": "markdown",
   "id": "e63d3e9a",
   "metadata": {},
   "source": [
    "### Model Building"
   ]
  },
  {
   "cell_type": "code",
   "execution_count": 33,
   "id": "0ac1aba6",
   "metadata": {},
   "outputs": [],
   "source": [
    "#spliting test and training sets\n",
    "X_train, X_test, y_train,y_test = train_test_split(x_scl,y,test_size=0.25,random_state=7)"
   ]
  },
  {
   "cell_type": "code",
   "execution_count": 59,
   "id": "c67f55d0",
   "metadata": {},
   "outputs": [
    {
     "name": "stdout",
     "output_type": "stream",
     "text": [
      "Model: \"sequential_3\"\n",
      "_________________________________________________________________\n",
      " Layer (type)                Output Shape              Param #   \n",
      "=================================================================\n",
      " dense_29 (Dense)            (None, 32)                480       \n",
      "                                                                 \n",
      " dropout_16 (Dropout)        (None, 32)                0         \n",
      "                                                                 \n",
      " dense_30 (Dense)            (None, 16)                528       \n",
      "                                                                 \n",
      " dropout_17 (Dropout)        (None, 16)                0         \n",
      "                                                                 \n",
      " dense_31 (Dense)            (None, 1)                 17        \n",
      "                                                                 \n",
      "=================================================================\n",
      "Total params: 1025 (4.00 KB)\n",
      "Trainable params: 1025 (4.00 KB)\n",
      "Non-trainable params: 0 (0.00 Byte)\n",
      "_________________________________________________________________\n"
     ]
    }
   ],
   "source": [
    "early_stopping = callbacks.EarlyStopping(\n",
    "    min_delta=0.001, # minimium amount of change to count as an improvement\n",
    "    patience=20, # how many epochs to wait before stopping\n",
    "    restore_best_weights=True)\n",
    "\n",
    "# Define the model\n",
    "model = Sequential()\n",
    "\n",
    "# Add layers to the model\n",
    "model.add(Dense(units=32, activation='relu', input_dim=14))  # Input layer with 14 features\n",
    "model.add(Dropout(0.25))  # Dropout layer to prevent overfitting\n",
    "model.add(Dense(units=16, activation='relu'))  # Hidden layer\n",
    "model.add(Dropout(0.25))  # Dropout layer\n",
    "model.add(Dense(units=1, activation='sigmoid'))  # Output layer for binary classification\n",
    "\n",
    "# Compile the model\n",
    "model.compile(optimizer='adam', loss='binary_crossentropy', metrics=['accuracy'])\n",
    "\n",
    "# Print model summary\n",
    "model.summary()"
   ]
  },
  {
   "cell_type": "code",
   "execution_count": 61,
   "id": "e2cf72a8",
   "metadata": {},
   "outputs": [
    {
     "name": "stdout",
     "output_type": "stream",
     "text": [
      "Epoch 1/500\n",
      "WARNING:tensorflow:From C:\\Users\\Prerana\\anaconda3\\lib\\site-packages\\keras\\src\\utils\\tf_utils.py:492: The name tf.ragged.RaggedTensorValue is deprecated. Please use tf.compat.v1.ragged.RaggedTensorValue instead.\n",
      "\n",
      "WARNING:tensorflow:From C:\\Users\\Prerana\\anaconda3\\lib\\site-packages\\keras\\src\\engine\\base_layer_utils.py:384: The name tf.executing_eagerly_outside_functions is deprecated. Please use tf.compat.v1.executing_eagerly_outside_functions instead.\n",
      "\n",
      "111/111 [==============================] - 2s 5ms/step - loss: 0.5331 - accuracy: 0.7492 - val_loss: 0.3939 - val_accuracy: 0.8570\n",
      "Epoch 2/500\n",
      "111/111 [==============================] - 0s 3ms/step - loss: 0.4082 - accuracy: 0.8441 - val_loss: 0.3559 - val_accuracy: 0.8660\n",
      "Epoch 3/500\n",
      "111/111 [==============================] - 0s 3ms/step - loss: 0.3812 - accuracy: 0.8546 - val_loss: 0.3445 - val_accuracy: 0.8660\n",
      "Epoch 4/500\n",
      "111/111 [==============================] - 0s 3ms/step - loss: 0.3736 - accuracy: 0.8557 - val_loss: 0.3384 - val_accuracy: 0.8694\n",
      "Epoch 5/500\n",
      "111/111 [==============================] - 0s 3ms/step - loss: 0.3688 - accuracy: 0.8627 - val_loss: 0.3358 - val_accuracy: 0.8694\n",
      "Epoch 6/500\n",
      "111/111 [==============================] - 0s 3ms/step - loss: 0.3576 - accuracy: 0.8627 - val_loss: 0.3340 - val_accuracy: 0.8671\n",
      "Epoch 7/500\n",
      "111/111 [==============================] - 0s 3ms/step - loss: 0.3545 - accuracy: 0.8610 - val_loss: 0.3319 - val_accuracy: 0.8705\n",
      "Epoch 8/500\n",
      "111/111 [==============================] - 0s 3ms/step - loss: 0.3468 - accuracy: 0.8684 - val_loss: 0.3305 - val_accuracy: 0.8716\n",
      "Epoch 9/500\n",
      "111/111 [==============================] - 0s 3ms/step - loss: 0.3467 - accuracy: 0.8681 - val_loss: 0.3290 - val_accuracy: 0.8739\n",
      "Epoch 10/500\n",
      "111/111 [==============================] - 0s 3ms/step - loss: 0.3463 - accuracy: 0.8658 - val_loss: 0.3276 - val_accuracy: 0.8773\n",
      "Epoch 11/500\n",
      "111/111 [==============================] - 0s 3ms/step - loss: 0.3451 - accuracy: 0.8656 - val_loss: 0.3262 - val_accuracy: 0.8773\n",
      "Epoch 12/500\n",
      "111/111 [==============================] - 0s 3ms/step - loss: 0.3420 - accuracy: 0.8732 - val_loss: 0.3244 - val_accuracy: 0.8784\n",
      "Epoch 13/500\n",
      "111/111 [==============================] - 0s 3ms/step - loss: 0.3374 - accuracy: 0.8743 - val_loss: 0.3239 - val_accuracy: 0.8784\n",
      "Epoch 14/500\n",
      "111/111 [==============================] - 0s 3ms/step - loss: 0.3324 - accuracy: 0.8729 - val_loss: 0.3218 - val_accuracy: 0.8784\n",
      "Epoch 15/500\n",
      "111/111 [==============================] - 0s 3ms/step - loss: 0.3342 - accuracy: 0.8732 - val_loss: 0.3219 - val_accuracy: 0.8773\n",
      "Epoch 16/500\n",
      "111/111 [==============================] - 0s 3ms/step - loss: 0.3350 - accuracy: 0.8749 - val_loss: 0.3224 - val_accuracy: 0.8761\n",
      "Epoch 17/500\n",
      "111/111 [==============================] - 0s 3ms/step - loss: 0.3285 - accuracy: 0.8754 - val_loss: 0.3212 - val_accuracy: 0.8784\n",
      "Epoch 18/500\n",
      "111/111 [==============================] - 0s 3ms/step - loss: 0.3268 - accuracy: 0.8760 - val_loss: 0.3218 - val_accuracy: 0.8761\n",
      "Epoch 19/500\n",
      "111/111 [==============================] - 0s 3ms/step - loss: 0.3258 - accuracy: 0.8718 - val_loss: 0.3195 - val_accuracy: 0.8806\n",
      "Epoch 20/500\n",
      "111/111 [==============================] - 0s 3ms/step - loss: 0.3225 - accuracy: 0.8777 - val_loss: 0.3175 - val_accuracy: 0.8806\n",
      "Epoch 21/500\n",
      "111/111 [==============================] - 0s 3ms/step - loss: 0.3211 - accuracy: 0.8797 - val_loss: 0.3158 - val_accuracy: 0.8806\n",
      "Epoch 22/500\n",
      "111/111 [==============================] - 0s 3ms/step - loss: 0.3179 - accuracy: 0.8780 - val_loss: 0.3156 - val_accuracy: 0.8784\n",
      "Epoch 23/500\n",
      "111/111 [==============================] - 0s 3ms/step - loss: 0.3209 - accuracy: 0.8780 - val_loss: 0.3131 - val_accuracy: 0.8806\n",
      "Epoch 24/500\n",
      "111/111 [==============================] - 0s 3ms/step - loss: 0.3211 - accuracy: 0.8771 - val_loss: 0.3138 - val_accuracy: 0.8806\n",
      "Epoch 25/500\n",
      "111/111 [==============================] - 0s 3ms/step - loss: 0.3174 - accuracy: 0.8788 - val_loss: 0.3139 - val_accuracy: 0.8784\n",
      "Epoch 26/500\n",
      "111/111 [==============================] - 0s 3ms/step - loss: 0.3209 - accuracy: 0.8768 - val_loss: 0.3112 - val_accuracy: 0.8784\n",
      "Epoch 27/500\n",
      "111/111 [==============================] - 0s 3ms/step - loss: 0.3151 - accuracy: 0.8766 - val_loss: 0.3106 - val_accuracy: 0.8806\n",
      "Epoch 28/500\n",
      "111/111 [==============================] - 0s 3ms/step - loss: 0.3183 - accuracy: 0.8791 - val_loss: 0.3095 - val_accuracy: 0.8806\n",
      "Epoch 29/500\n",
      "111/111 [==============================] - 0s 3ms/step - loss: 0.3138 - accuracy: 0.8802 - val_loss: 0.3092 - val_accuracy: 0.8840\n",
      "Epoch 30/500\n",
      "111/111 [==============================] - 0s 3ms/step - loss: 0.3109 - accuracy: 0.8785 - val_loss: 0.3082 - val_accuracy: 0.8874\n",
      "Epoch 31/500\n",
      "111/111 [==============================] - 0s 3ms/step - loss: 0.3120 - accuracy: 0.8811 - val_loss: 0.3072 - val_accuracy: 0.8806\n",
      "Epoch 32/500\n",
      "111/111 [==============================] - 0s 3ms/step - loss: 0.3115 - accuracy: 0.8830 - val_loss: 0.3055 - val_accuracy: 0.8863\n",
      "Epoch 33/500\n",
      "111/111 [==============================] - 0s 3ms/step - loss: 0.3060 - accuracy: 0.8816 - val_loss: 0.3040 - val_accuracy: 0.8863\n",
      "Epoch 34/500\n",
      "111/111 [==============================] - 0s 3ms/step - loss: 0.3075 - accuracy: 0.8844 - val_loss: 0.3032 - val_accuracy: 0.8874\n",
      "Epoch 35/500\n",
      "111/111 [==============================] - 0s 3ms/step - loss: 0.3086 - accuracy: 0.8782 - val_loss: 0.3030 - val_accuracy: 0.8885\n",
      "Epoch 36/500\n",
      "111/111 [==============================] - 0s 3ms/step - loss: 0.3094 - accuracy: 0.8780 - val_loss: 0.3021 - val_accuracy: 0.8829\n",
      "Epoch 37/500\n",
      "111/111 [==============================] - 0s 3ms/step - loss: 0.3041 - accuracy: 0.8850 - val_loss: 0.3014 - val_accuracy: 0.8863\n",
      "Epoch 38/500\n",
      "111/111 [==============================] - 0s 3ms/step - loss: 0.3047 - accuracy: 0.8822 - val_loss: 0.3005 - val_accuracy: 0.8874\n",
      "Epoch 39/500\n",
      "111/111 [==============================] - 0s 3ms/step - loss: 0.3054 - accuracy: 0.8791 - val_loss: 0.2995 - val_accuracy: 0.8885\n",
      "Epoch 40/500\n",
      "111/111 [==============================] - 0s 3ms/step - loss: 0.3011 - accuracy: 0.8859 - val_loss: 0.2967 - val_accuracy: 0.8919\n",
      "Epoch 41/500\n",
      "111/111 [==============================] - 0s 3ms/step - loss: 0.3037 - accuracy: 0.8830 - val_loss: 0.2981 - val_accuracy: 0.8908\n",
      "Epoch 42/500\n",
      "111/111 [==============================] - 0s 3ms/step - loss: 0.3052 - accuracy: 0.8819 - val_loss: 0.2970 - val_accuracy: 0.8896\n",
      "Epoch 43/500\n",
      "111/111 [==============================] - 0s 3ms/step - loss: 0.2966 - accuracy: 0.8856 - val_loss: 0.2942 - val_accuracy: 0.8851\n",
      "Epoch 44/500\n",
      "111/111 [==============================] - 0s 3ms/step - loss: 0.2981 - accuracy: 0.8842 - val_loss: 0.2942 - val_accuracy: 0.8885\n",
      "Epoch 45/500\n",
      "111/111 [==============================] - 0s 3ms/step - loss: 0.3001 - accuracy: 0.8864 - val_loss: 0.2921 - val_accuracy: 0.8885\n",
      "Epoch 46/500\n",
      "111/111 [==============================] - 0s 3ms/step - loss: 0.3013 - accuracy: 0.8802 - val_loss: 0.2946 - val_accuracy: 0.8874\n",
      "Epoch 47/500\n",
      "111/111 [==============================] - 0s 3ms/step - loss: 0.2982 - accuracy: 0.8859 - val_loss: 0.2948 - val_accuracy: 0.8908\n",
      "Epoch 48/500\n",
      "111/111 [==============================] - 0s 3ms/step - loss: 0.3000 - accuracy: 0.8856 - val_loss: 0.2953 - val_accuracy: 0.8896\n",
      "Epoch 49/500\n",
      "111/111 [==============================] - 0s 3ms/step - loss: 0.3014 - accuracy: 0.8884 - val_loss: 0.2928 - val_accuracy: 0.8874\n",
      "Epoch 50/500\n",
      "111/111 [==============================] - 0s 3ms/step - loss: 0.2949 - accuracy: 0.8847 - val_loss: 0.2924 - val_accuracy: 0.8908\n",
      "Epoch 51/500\n",
      "111/111 [==============================] - 0s 3ms/step - loss: 0.2956 - accuracy: 0.8853 - val_loss: 0.2925 - val_accuracy: 0.8874\n",
      "Epoch 52/500\n",
      "111/111 [==============================] - 0s 3ms/step - loss: 0.2934 - accuracy: 0.8813 - val_loss: 0.2912 - val_accuracy: 0.8863\n",
      "Epoch 53/500\n",
      "111/111 [==============================] - 0s 3ms/step - loss: 0.2943 - accuracy: 0.8859 - val_loss: 0.2890 - val_accuracy: 0.8851\n",
      "Epoch 54/500\n",
      "111/111 [==============================] - 0s 3ms/step - loss: 0.2960 - accuracy: 0.8856 - val_loss: 0.2898 - val_accuracy: 0.8851\n"
     ]
    },
    {
     "name": "stdout",
     "output_type": "stream",
     "text": [
      "Epoch 55/500\n",
      "111/111 [==============================] - 0s 3ms/step - loss: 0.2905 - accuracy: 0.8850 - val_loss: 0.2926 - val_accuracy: 0.8829\n",
      "Epoch 56/500\n",
      "111/111 [==============================] - 0s 3ms/step - loss: 0.2938 - accuracy: 0.8819 - val_loss: 0.2883 - val_accuracy: 0.8851\n",
      "Epoch 57/500\n",
      "111/111 [==============================] - 0s 2ms/step - loss: 0.2882 - accuracy: 0.8859 - val_loss: 0.2883 - val_accuracy: 0.8851\n",
      "Epoch 58/500\n",
      "111/111 [==============================] - 0s 3ms/step - loss: 0.2903 - accuracy: 0.8881 - val_loss: 0.2879 - val_accuracy: 0.8885\n",
      "Epoch 59/500\n",
      "111/111 [==============================] - 0s 3ms/step - loss: 0.2888 - accuracy: 0.8856 - val_loss: 0.2878 - val_accuracy: 0.8840\n",
      "Epoch 60/500\n",
      "111/111 [==============================] - 0s 3ms/step - loss: 0.2867 - accuracy: 0.8873 - val_loss: 0.2905 - val_accuracy: 0.8863\n",
      "Epoch 61/500\n",
      "111/111 [==============================] - 0s 3ms/step - loss: 0.2884 - accuracy: 0.8853 - val_loss: 0.2883 - val_accuracy: 0.8896\n",
      "Epoch 62/500\n",
      "111/111 [==============================] - 0s 3ms/step - loss: 0.2873 - accuracy: 0.8909 - val_loss: 0.2884 - val_accuracy: 0.8840\n",
      "Epoch 63/500\n",
      "111/111 [==============================] - 0s 2ms/step - loss: 0.2949 - accuracy: 0.8839 - val_loss: 0.2873 - val_accuracy: 0.8874\n",
      "Epoch 64/500\n",
      "111/111 [==============================] - 0s 3ms/step - loss: 0.2861 - accuracy: 0.8853 - val_loss: 0.2875 - val_accuracy: 0.8874\n",
      "Epoch 65/500\n",
      "111/111 [==============================] - 0s 3ms/step - loss: 0.2908 - accuracy: 0.8861 - val_loss: 0.2871 - val_accuracy: 0.8874\n",
      "Epoch 66/500\n",
      "111/111 [==============================] - 0s 3ms/step - loss: 0.2916 - accuracy: 0.8847 - val_loss: 0.2867 - val_accuracy: 0.8851\n",
      "Epoch 67/500\n",
      "111/111 [==============================] - 0s 3ms/step - loss: 0.2862 - accuracy: 0.8890 - val_loss: 0.2874 - val_accuracy: 0.8851\n",
      "Epoch 68/500\n",
      "111/111 [==============================] - 0s 3ms/step - loss: 0.2877 - accuracy: 0.8864 - val_loss: 0.2858 - val_accuracy: 0.8863\n",
      "Epoch 69/500\n",
      "111/111 [==============================] - 0s 3ms/step - loss: 0.2849 - accuracy: 0.8892 - val_loss: 0.2851 - val_accuracy: 0.8863\n",
      "Epoch 70/500\n",
      "111/111 [==============================] - 0s 3ms/step - loss: 0.2790 - accuracy: 0.8901 - val_loss: 0.2886 - val_accuracy: 0.8851\n",
      "Epoch 71/500\n",
      "111/111 [==============================] - 0s 3ms/step - loss: 0.2793 - accuracy: 0.8873 - val_loss: 0.2868 - val_accuracy: 0.8885\n",
      "Epoch 72/500\n",
      "111/111 [==============================] - 0s 3ms/step - loss: 0.2863 - accuracy: 0.8833 - val_loss: 0.2887 - val_accuracy: 0.8863\n",
      "Epoch 73/500\n",
      "111/111 [==============================] - 0s 3ms/step - loss: 0.2760 - accuracy: 0.8904 - val_loss: 0.2888 - val_accuracy: 0.8863\n",
      "Epoch 74/500\n",
      "111/111 [==============================] - 0s 3ms/step - loss: 0.2803 - accuracy: 0.8906 - val_loss: 0.2865 - val_accuracy: 0.8885\n",
      "Epoch 75/500\n",
      "111/111 [==============================] - 0s 2ms/step - loss: 0.2789 - accuracy: 0.8923 - val_loss: 0.2860 - val_accuracy: 0.8874\n",
      "Epoch 76/500\n",
      "111/111 [==============================] - 0s 3ms/step - loss: 0.2811 - accuracy: 0.8918 - val_loss: 0.2868 - val_accuracy: 0.8896\n",
      "Epoch 77/500\n",
      "111/111 [==============================] - 0s 3ms/step - loss: 0.2819 - accuracy: 0.8892 - val_loss: 0.2855 - val_accuracy: 0.8840\n",
      "Epoch 78/500\n",
      "111/111 [==============================] - 0s 3ms/step - loss: 0.2781 - accuracy: 0.8890 - val_loss: 0.2841 - val_accuracy: 0.8851\n",
      "Epoch 79/500\n",
      "111/111 [==============================] - 0s 3ms/step - loss: 0.2869 - accuracy: 0.8847 - val_loss: 0.2842 - val_accuracy: 0.8874\n",
      "Epoch 80/500\n",
      "111/111 [==============================] - 0s 3ms/step - loss: 0.2865 - accuracy: 0.8921 - val_loss: 0.2852 - val_accuracy: 0.8919\n",
      "Epoch 81/500\n",
      "111/111 [==============================] - 0s 3ms/step - loss: 0.2758 - accuracy: 0.8892 - val_loss: 0.2851 - val_accuracy: 0.8863\n",
      "Epoch 82/500\n",
      "111/111 [==============================] - 0s 3ms/step - loss: 0.2811 - accuracy: 0.8881 - val_loss: 0.2858 - val_accuracy: 0.8896\n",
      "Epoch 83/500\n",
      "111/111 [==============================] - 0s 3ms/step - loss: 0.2773 - accuracy: 0.8904 - val_loss: 0.2852 - val_accuracy: 0.8874\n",
      "Epoch 84/500\n",
      "111/111 [==============================] - 0s 3ms/step - loss: 0.2753 - accuracy: 0.8912 - val_loss: 0.2813 - val_accuracy: 0.8896\n",
      "Epoch 85/500\n",
      "111/111 [==============================] - 0s 3ms/step - loss: 0.2793 - accuracy: 0.8870 - val_loss: 0.2830 - val_accuracy: 0.8930\n",
      "Epoch 86/500\n",
      "111/111 [==============================] - 0s 3ms/step - loss: 0.2872 - accuracy: 0.8878 - val_loss: 0.2835 - val_accuracy: 0.8908\n",
      "Epoch 87/500\n",
      "111/111 [==============================] - 0s 3ms/step - loss: 0.2706 - accuracy: 0.8918 - val_loss: 0.2838 - val_accuracy: 0.8896\n",
      "Epoch 88/500\n",
      "111/111 [==============================] - 0s 3ms/step - loss: 0.2733 - accuracy: 0.8935 - val_loss: 0.2857 - val_accuracy: 0.8885\n",
      "Epoch 89/500\n",
      "111/111 [==============================] - 0s 3ms/step - loss: 0.2827 - accuracy: 0.8895 - val_loss: 0.2850 - val_accuracy: 0.8851\n",
      "Epoch 90/500\n",
      "111/111 [==============================] - 0s 3ms/step - loss: 0.2770 - accuracy: 0.8873 - val_loss: 0.2826 - val_accuracy: 0.8885\n",
      "Epoch 91/500\n",
      "111/111 [==============================] - 0s 3ms/step - loss: 0.2889 - accuracy: 0.8825 - val_loss: 0.2859 - val_accuracy: 0.8919\n",
      "Epoch 92/500\n",
      "111/111 [==============================] - 0s 3ms/step - loss: 0.2828 - accuracy: 0.8918 - val_loss: 0.2815 - val_accuracy: 0.8896\n",
      "Epoch 93/500\n",
      "111/111 [==============================] - 0s 3ms/step - loss: 0.2756 - accuracy: 0.8912 - val_loss: 0.2804 - val_accuracy: 0.8874\n",
      "Epoch 94/500\n",
      "111/111 [==============================] - 0s 3ms/step - loss: 0.2798 - accuracy: 0.8881 - val_loss: 0.2817 - val_accuracy: 0.8851\n",
      "Epoch 95/500\n",
      "111/111 [==============================] - 0s 3ms/step - loss: 0.2781 - accuracy: 0.8918 - val_loss: 0.2828 - val_accuracy: 0.8874\n",
      "Epoch 96/500\n",
      "111/111 [==============================] - 0s 3ms/step - loss: 0.2787 - accuracy: 0.8864 - val_loss: 0.2851 - val_accuracy: 0.8863\n",
      "Epoch 97/500\n",
      "111/111 [==============================] - 0s 3ms/step - loss: 0.2751 - accuracy: 0.8918 - val_loss: 0.2833 - val_accuracy: 0.8885\n",
      "Epoch 98/500\n",
      "111/111 [==============================] - 0s 3ms/step - loss: 0.2823 - accuracy: 0.8892 - val_loss: 0.2840 - val_accuracy: 0.8851\n",
      "Epoch 99/500\n",
      "111/111 [==============================] - 0s 3ms/step - loss: 0.2692 - accuracy: 0.8943 - val_loss: 0.2852 - val_accuracy: 0.8863\n",
      "Epoch 100/500\n",
      "111/111 [==============================] - 0s 3ms/step - loss: 0.2788 - accuracy: 0.8898 - val_loss: 0.2855 - val_accuracy: 0.8874\n",
      "Epoch 101/500\n",
      "111/111 [==============================] - 0s 3ms/step - loss: 0.2651 - accuracy: 0.8906 - val_loss: 0.2828 - val_accuracy: 0.8896\n",
      "Epoch 102/500\n",
      "111/111 [==============================] - 0s 3ms/step - loss: 0.2707 - accuracy: 0.8954 - val_loss: 0.2823 - val_accuracy: 0.8885\n",
      "Epoch 103/500\n",
      "111/111 [==============================] - 0s 3ms/step - loss: 0.2719 - accuracy: 0.8898 - val_loss: 0.2855 - val_accuracy: 0.8863\n",
      "Epoch 104/500\n",
      "111/111 [==============================] - 0s 3ms/step - loss: 0.2750 - accuracy: 0.8892 - val_loss: 0.2839 - val_accuracy: 0.8930\n"
     ]
    }
   ],
   "source": [
    "# Train the ANN\n",
    "history = model.fit(X_train, y_train, batch_size = 32, epochs = 500,callbacks=[early_stopping], validation_split=0.2)"
   ]
  },
  {
   "cell_type": "code",
   "execution_count": 62,
   "id": "3fb6fdb8",
   "metadata": {},
   "outputs": [
    {
     "name": "stdout",
     "output_type": "stream",
     "text": [
      "\n",
      "val_accuracy: 88.41%\n"
     ]
    }
   ],
   "source": [
    "val_accuracy = np.mean(history.history['val_accuracy'])\n",
    "print(\"\\n%s: %.2f%%\" % ('val_accuracy', val_accuracy*100))"
   ]
  },
  {
   "cell_type": "markdown",
   "id": "7ef2ca64",
   "metadata": {},
   "source": [
    "### Plotting training and validation loss over epochs"
   ]
  },
  {
   "cell_type": "code",
   "execution_count": 63,
   "id": "028731c0",
   "metadata": {},
   "outputs": [
    {
     "data": {
      "image/png": "[encoded data removed]",
      "text/plain": [
       "<Figure size 432x288 with 1 Axes>"
      ]
     },
     "metadata": {
      "needs_background": "light"
     },
     "output_type": "display_data"
    }
   ],
   "source": [
    "history_df = pd.DataFrame(history.history)\n",
    "\n",
    "plt.plot(history_df.loc[:, ['loss']], \"#6daa9f\", label='Training loss')\n",
    "plt.plot(history_df.loc[:, ['val_loss']],\"#774571\", label='Validation loss')\n",
    "plt.title('Training and Validation loss')\n",
    "plt.xlabel('Epochs')\n",
    "plt.ylabel('Loss')\n",
    "plt.legend(loc=\"best\")\n",
    "\n",
    "plt.show()"
   ]
  },
  {
   "cell_type": "markdown",
   "id": "2742cffd",
   "metadata": {},
   "source": [
    "### Plotting training and validation accuracy over epochs"
   ]
  },
  {
   "cell_type": "code",
   "execution_count": 64,
   "id": "30c007bb",
   "metadata": {},
   "outputs": [
    {
     "data": {
      "image/png": "[encoded data removed]",
      "text/plain": [
       "<Figure size 432x288 with 1 Axes>"
      ]
     },
     "metadata": {
      "needs_background": "light"
     },
     "output_type": "display_data"
    }
   ],
   "source": [
    "history_df = pd.DataFrame(history.history)\n",
    "\n",
    "plt.plot(history_df.loc[:, ['accuracy']], \"#6daa9f\", label='Training accuracy')\n",
    "plt.plot(history_df.loc[:, ['val_accuracy']], \"#774571\", label='Validation accuracy')\n",
    "\n",
    "plt.title('Training and Validation accuracy')\n",
    "plt.xlabel('Epochs')\n",
    "plt.ylabel('Accuracy')\n",
    "plt.legend()\n",
    "plt.show()"
   ]
  },
  {
   "cell_type": "code",
   "execution_count": 66,
   "id": "53165c46",
   "metadata": {},
   "outputs": [
    {
     "name": "stdout",
     "output_type": "stream",
     "text": [
      "47/47 [==============================] - 0s 2ms/step\n"
     ]
    },
    {
     "data": {
      "text/plain": [
       "<AxesSubplot:>"
      ]
     },
     "execution_count": 66,
     "metadata": {},
     "output_type": "execute_result"
    },
    {
     "data": {
      "image/png": "[encoded data removed]",
      "text/plain": [
       "<Figure size 864x576 with 2 Axes>"
      ]
     },
     "metadata": {
      "needs_background": "light"
     },
     "output_type": "display_data"
    }
   ],
   "source": [
    "# Predicting the test set results\n",
    "y_pred = model.predict(X_test)\n",
    "y_pred = (y_pred > 0.5)\n",
    "np.set_printoptions()\n",
    "# confusion matrix\n",
    "cmap1 = sns.diverging_palette(275,150,  s=40, l=65, n=6)\n",
    "plt.subplots(figsize=(12,8))\n",
    "cf_matrix = confusion_matrix(y_test, y_pred)\n",
    "sns.heatmap(cf_matrix/np.sum(cf_matrix), cmap = cmap1, annot = True, annot_kws = {'size':15})"
   ]
  },
  {
   "cell_type": "code",
   "execution_count": 67,
   "id": "dcd6b569",
   "metadata": {},
   "outputs": [
    {
     "name": "stdout",
     "output_type": "stream",
     "text": [
      "              precision    recall  f1-score   support\n",
      "\n",
      "           0       0.87      0.98      0.92      1085\n",
      "           1       0.91      0.61      0.73       394\n",
      "\n",
      "    accuracy                           0.88      1479\n",
      "   macro avg       0.89      0.79      0.83      1479\n",
      "weighted avg       0.88      0.88      0.87      1479\n",
      "\n"
     ]
    }
   ],
   "source": [
    "print(classification_report(y_test, y_pred))"
   ]
  },
  {
   "cell_type": "code",
   "execution_count": 68,
   "id": "53a8a13f",
   "metadata": {},
   "outputs": [],
   "source": [
    "#End"
   ]
  }
 ],
 "metadata": {
  "kernelspec": {
   "display_name": "Python 3 (ipykernel)",
   "language": "python",
   "name": "python3"
  },
  "language_info": {
   "codemirror_mode": {
    "name": "ipython",
    "version": 3
   },
   "file_extension": ".py",
   "mimetype": "text/x-python",
   "name": "python",
   "nbconvert_exporter": "python",
   "pygments_lexer": "ipython3",
   "version": "3.9.7"
  }
 },
 "nbformat": 4,
 "nbformat_minor": 5
}
